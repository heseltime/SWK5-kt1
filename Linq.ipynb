{
 "cells": [
  {
   "cell_type": "markdown",
   "metadata": {},
   "source": [
    "Aufgaben zu LINQ\n",
    "================"
   ]
  },
  {
   "cell_type": "markdown",
   "metadata": {},
   "source": [
    "Gegeben sei folgende Listen von Studierenden. Führen Sie auf diesem Datenbestand\n",
    "die nachfolgend angeführten LINQ-Abfragen durch."
   ]
  },
  {
   "cell_type": "code",
   "execution_count": 1,
   "metadata": {
    "dotnet_interactive": {
     "language": "csharp"
    },
    "vscode": {
     "languageId": "polyglot-notebook"
    }
   },
   "outputs": [],
   "source": [
    "record Student (string MatNr, string Name, string Subject, int[] Grades);\n",
    "\n",
    "IEnumerable<Student> students = new List<Student> {\n",
    "  new (\"s12345\", \"Huber\",   \"Se\", new [] { 2, 3, 2, 1, 3 }),\n",
    "  new (\"s12388\", \"Mayr\",    \"MC\", new [] { 1, 2, 3, 2, 1 }),\n",
    "  new (\"s12321\", \"Bauer\",   \"se\", new [] { 3, 5, 5, 2, 3 }),\n",
    "  new (\"s12353\", \"Schmidt\", \"SE\", new [] { 2, 4, 3, 2, 1 }),\n",
    "};"
   ]
  },
  {
   "cell_type": "markdown",
   "metadata": {},
   "source": [
    "## Aufgabe 1\n",
    "Erstellen Sie eine Liste aller Studierenden des Studiengangs `SE`\n",
    "(Groß/Kleinschreibung ist irrelevant), welche als Elemente die Matrikelnummern und die Namen\n",
    "der Studierenden, nicht aber deren Noten enthält. Verwenden Sie dazu\n",
    "LINQ-Syntax. Geben Sie diese Liste anschließend aus."
   ]
  },
  {
   "cell_type": "code",
   "execution_count": null,
   "metadata": {
    "dotnet_interactive": {
     "language": "csharp"
    },
    "vscode": {
     "languageId": "polyglot-notebook"
    }
   },
   "outputs": [
    {
     "name": "stdout",
     "output_type": "stream",
     "text": [
      "MatNr: s12345, Name: Huber\n",
      "MatNr: s12321, Name: Bauer\n",
      "MatNr: s12353, Name: Schmidt\n"
     ]
    }
   ],
   "source": [
    "// TODO\n",
    "var query = from student in students\n",
    "            where student.Subject.ToLower() == \"se\"\n",
    "            select new { student.MatNr, student.Name };\n",
    "\n",
    "// just iteratre over the results of the query (1*)\n",
    "foreach (var result in query)\n",
    "{\n",
    "    Console.WriteLine($\"MatNr: {result.MatNr}, Name: {result.Name}\");\n",
    "}\n"
   ]
  },
  {
   "cell_type": "markdown",
   "metadata": {},
   "source": [
    "## Aufgabe 2\n",
    "Implementieren Sie die LINQ-Abfrage aus Beispiel 1 unter ausschließlicher Verwendung von Erweiterungsmethoden."
   ]
  },
  {
   "cell_type": "code",
   "execution_count": 7,
   "metadata": {
    "dotnet_interactive": {
     "language": "csharp"
    },
    "vscode": {
     "languageId": "polyglot-notebook"
    }
   },
   "outputs": [
    {
     "name": "stdout",
     "output_type": "stream",
     "text": [
      "MatNr: s12345, Name: Huber\n",
      "MatNr: s12321, Name: Bauer\n",
      "MatNr: s12353, Name: Schmidt\n"
     ]
    }
   ],
   "source": [
    "// TODO\n",
    "var query = students.Where(student => student.Subject.ToLower() == \"se\").Select(student => new { student.MatNr, student.Name });\n",
    "\n",
    "foreach (var result in query)\n",
    "{\n",
    "    Console.WriteLine($\"MatNr: {result.MatNr}, Name: {result.Name}\");\n",
    "}"
   ]
  },
  {
   "cell_type": "markdown",
   "metadata": {},
   "source": [
    "## Aufgabe 3\n",
    "Ermitteln Sie alle Studierende, welche jede LVA mit mindestens \"Befriedigend\"\n",
    "abgeschlossen haben. *Hinweis:* Verwenden Sie die Erweiterungsmethode `bool All<T> (this IEnumerable<T> source, Func<T,bool> predicate)`."
   ]
  },
  {
   "cell_type": "code",
   "execution_count": 9,
   "metadata": {
    "dotnet_interactive": {
     "language": "csharp"
    },
    "vscode": {
     "languageId": "polyglot-notebook"
    }
   },
   "outputs": [
    {
     "name": "stdout",
     "output_type": "stream",
     "text": [
      "MatNr: s12345, Name: Huber\n",
      "MatNr: s12388, Name: Mayr\n"
     ]
    }
   ],
   "source": [
    "// TODO                  \n",
    "var query = students.Where(student => student.Grades.All<int>(g => g <= 3)).Select(student => new { student.MatNr, student.Name });\n",
    "\n",
    "foreach (var result in query)\n",
    "{\n",
    "    Console.WriteLine($\"MatNr: {result.MatNr}, Name: {result.Name}\");\n",
    "}"
   ]
  },
  {
   "cell_type": "markdown",
   "metadata": {},
   "source": [
    "## Aufgabe 4\n",
    "Erstellen Sie eine Liste mit den Namen und den Durchschnittsnoten aller\n",
    "Studierenden. Die Liste soll aufsteigend nach der Durchschnittsnote sortiert sein."
   ]
  },
  {
   "cell_type": "code",
   "execution_count": null,
   "metadata": {
    "dotnet_interactive": {
     "language": "csharp"
    },
    "vscode": {
     "languageId": "polyglot-notebook"
    }
   },
   "outputs": [
    {
     "name": "stdout",
     "output_type": "stream",
     "text": [
      "Name: Mayr, Average Grade: 1.80\n",
      "Name: Huber, Average Grade: 2.20\n",
      "Name: Schmidt, Average Grade: 2.40\n",
      "Name: Bauer, Average Grade: 3.60\n"
     ]
    }
   ],
   "source": [
    "var query = from student in students\n",
    "            select new { student.Name, Average = student.Grades.Average() };\n",
    "\n",
    "// Order by average grade - see ToList method here (2*)\n",
    "var studentsByAverage = query.OrderBy(s => s.Average).ToList();\n",
    "\n",
    "// Display the results\n",
    "foreach (var student in studentsByAverage)\n",
    "{\n",
    "    Console.WriteLine($\"Name: {student.Name}, Average Grade: {student.Average:F2}\");\n",
    "}"
   ]
  },
  {
   "cell_type": "markdown",
   "metadata": {},
   "source": [
    "## Aufgabe 5\n",
    "Ermitteln Sie für den Studierenden mit der Matrikelnummer `s12321` eine\n",
    "Notenliste, in welcher die Noten in der Langform (\"Sehr gut\", \"Gut\", ...)\n",
    "angegeben werden. Übernehmen Sie die Note aus dem Feld `gradeStrings`."
   ]
  },
  {
   "cell_type": "code",
   "execution_count": 24,
   "metadata": {
    "dotnet_interactive": {
     "language": "csharp"
    },
    "vscode": {
     "languageId": "polyglot-notebook"
    }
   },
   "outputs": [
    {
     "name": "stdout",
     "output_type": "stream",
     "text": [
      "Befriedigend, Nicht genügend, Nicht genügend, Gut, Befriedigend\r\n"
     ]
    }
   ],
   "source": [
    "var gradeStrings = new[] { \"Sehr gut\", \"Gut\", \"Befriedigend\", \"Genügend\", \"Nicht genügend\" };\n",
    "\n",
    "var query = from student in students\n",
    "            where student.MatNr == \"s12321\"\n",
    "            select student.Grades.Select(gs => gradeStrings[gs - 1]);\n",
    "\n",
    "foreach (var gradeDescriptions in query)\n",
    "{\n",
    "    Console.WriteLine(string.Join(\", \", gradeDescriptions));\n",
    "}"
   ]
  },
  {
   "cell_type": "code",
   "execution_count": null,
   "metadata": {
    "vscode": {
     "languageId": "polyglot-notebook"
    }
   },
   "outputs": [],
   "source": []
  }
 ],
 "metadata": {
  "kernelspec": {
   "display_name": ".NET (C#)",
   "language": "C#",
   "name": ".net-csharp"
  },
  "language_info": {
   "name": "C#"
  },
  "polyglot_notebook": {
   "kernelInfo": {
    "defaultKernelName": "csharp",
    "items": [
     {
      "aliases": [],
      "name": "csharp"
     }
    ]
   }
  }
 },
 "nbformat": 4,
 "nbformat_minor": 2
}
