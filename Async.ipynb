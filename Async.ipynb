{
 "cells": [
  {
   "cell_type": "markdown",
   "metadata": {},
   "source": [
    "Aufgaben zu async/await\n",
    "======================="
   ]
  },
  {
   "cell_type": "markdown",
   "metadata": {},
   "source": [
    "Analysieren Sie die nachfolgend angegebenen Methoden. Lösen Sie auf Basis dieser\n",
    "Methoden untenstehende Aufgaben."
   ]
  },
  {
   "cell_type": "code",
   "execution_count": 1,
   "metadata": {
    "dotnet_interactive": {
     "language": "csharp"
    },
    "vscode": {
     "languageId": "polyglot-notebook"
    }
   },
   "outputs": [],
   "source": [
    "async static Task<IEnumerable<T>> FilterAsync<T>(this IEnumerable<T> items, Func<T, bool> predicate) \n",
    "{\n",
    "  var result = new List<T>();\n",
    "  foreach (var item in items)\n",
    "  {\n",
    "    await Task.Delay(100);\n",
    "    if (predicate(item))\n",
    "    {\n",
    "      result.Add(item);\n",
    "    }\n",
    "  }\n",
    "  return result;\n",
    "}\n",
    "\n",
    "static bool IsPrime(int n) => n>=2 && !Enumerable.Range(2, (int)Math.Sqrt(n+1)-1).Any(i => n%i==0);"
   ]
  },
  {
   "cell_type": "markdown",
   "metadata": {},
   "source": [
    "## Aufgabe 1\n",
    "Ermitteln Sie alle Primzahlen im Bereich von 1 bis 20."
   ]
  },
  {
   "cell_type": "code",
   "execution_count": 4,
   "metadata": {
    "dotnet_interactive": {
     "language": "csharp"
    },
    "vscode": {
     "languageId": "polyglot-notebook"
    }
   },
   "outputs": [
    {
     "name": "stdout",
     "output_type": "stream",
     "text": [
      "2, 3, 5, 7, 11, 13, 17, 19\r\n"
     ]
    }
   ],
   "source": [
    "// TODO\n",
    "async static Task<IEnumerable<int>> GetPrimesAsync()\n",
    "{\n",
    "    IEnumerable<int> primes = await Enumerable.Range(1, 20).FilterAsync(IsPrime);\n",
    "    return primes;\n",
    "}\n",
    "\n",
    "IEnumerable<int> primes = await GetPrimesAsync();\n",
    "Console.WriteLine(string.Join(\", \", primes));"
   ]
  },
  {
   "cell_type": "markdown",
   "metadata": {},
   "source": [
    "## Aufgabe 2\n",
    "Ermitteln Sie alle Primzahlen im Interval [1,20], indem Sie die\n",
    "Primzahlenbestimmung *parallel* auf den Intervallen [1,10] und [11,20]\n",
    "durchführen und anschließend die Teilergebnisse zusammenfügen\n",
    "(`IEnumerable.Concat`). Vergleich Sie die Laufzeit dieser Variante mit jeder aus\n",
    "Aufgabe 1."
   ]
  },
  {
   "cell_type": "code",
   "execution_count": 5,
   "metadata": {
    "dotnet_interactive": {
     "language": "csharp"
    },
    "vscode": {
     "languageId": "polyglot-notebook"
    }
   },
   "outputs": [
    {
     "name": "stdout",
     "output_type": "stream",
     "text": [
      "Sequential Primes: 2, 3, 5, 7, 11, 13, 17, 19\n",
      "Sequential Time: 2118 ms\n",
      "Parallel Primes: 2, 3, 5, 7, 11, 13, 17, 19\n",
      "Parallel Time: 1051 ms\n"
     ]
    }
   ],
   "source": [
    "// TODO\n",
    "using System.Diagnostics;\n",
    "\n",
    "async static Task<IEnumerable<int>> FilterPrimesParallelAsync()\n",
    "{\n",
    "    // Divide the range into two subranges\n",
    "    var range1 = Enumerable.Range(1, 10);\n",
    "    var range2 = Enumerable.Range(11, 10);\n",
    "\n",
    "    // Process the ranges in parallel\n",
    "    var task1 = range1.FilterAsync(IsPrime);\n",
    "    var task2 = range2.FilterAsync(IsPrime);\n",
    "\n",
    "    // Wait for both tasks to complete and concatenate the results\n",
    "    await Task.WhenAll(task1, task2);\n",
    "    return task1.Result.Concat(task2.Result);\n",
    "}\n",
    "\n",
    "static void CompareExecutionTimes()\n",
    "{\n",
    "    // Measure time for sequential filtering\n",
    "    var stopwatch = Stopwatch.StartNew();\n",
    "    var sequentialPrimes = GetPrimesAsync().Result;\n",
    "    stopwatch.Stop();\n",
    "    Console.WriteLine($\"Sequential Primes: {string.Join(\", \", sequentialPrimes)}\");\n",
    "    Console.WriteLine($\"Sequential Time: {stopwatch.ElapsedMilliseconds} ms\");\n",
    "\n",
    "    // Measure time for parallel filtering\n",
    "    stopwatch.Restart();\n",
    "    var parallelPrimes = FilterPrimesParallelAsync().Result;\n",
    "    stopwatch.Stop();\n",
    "    Console.WriteLine($\"Parallel Primes: {string.Join(\", \", parallelPrimes)}\");\n",
    "    Console.WriteLine($\"Parallel Time: {stopwatch.ElapsedMilliseconds} ms\");\n",
    "}\n",
    "\n",
    "// Run the comparison\n",
    "CompareExecutionTimes();"
   ]
  }
 ],
 "metadata": {
  "kernelspec": {
   "display_name": ".NET (C#)",
   "language": "C#",
   "name": ".net-csharp"
  },
  "language_info": {
   "name": "C#"
  },
  "polyglot_notebook": {
   "kernelInfo": {
    "defaultKernelName": "csharp",
    "items": [
     {
      "aliases": [],
      "name": "csharp"
     }
    ]
   }
  }
 },
 "nbformat": 4,
 "nbformat_minor": 2
}
