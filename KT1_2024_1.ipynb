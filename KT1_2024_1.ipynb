{
 "cells": [
  {
   "cell_type": "markdown",
   "metadata": {},
   "source": [
    "## Aufgabe 1: Asynchrones Verarbeiten von Arrays\n",
    "Schreiben Sie eine Methode, die einen Array in zwei Hälften teilt und jede Hälfte asynchron verarbeitet. Verwenden Sie dazu `Task` und `async/await`."
   ]
  },
  {
   "cell_type": "code",
   "execution_count": null,
   "metadata": {
    "dotnet_interactive": {
     "language": "csharp"
    },
    "polyglot_notebook": {
     "kernelName": "csharp"
    },
    "vscode": {
     "languageId": "polyglot-notebook"
    }
   },
   "outputs": [
    {
     "name": "stdout",
     "output_type": "stream",
     "text": [
      "2, 4, 6, 8, 10, 12, 14, 16\r\n"
     ]
    }
   ],
   "source": [
    "public class ArrayProcessor\n",
    "{\n",
    "    public static async Task<int[]> ProcessArrayAsync(int[] arr)\n",
    "    {\n",
    "        // TODO (1/3)\n",
    "        Task task1 = ProcessPartAsync(arr, 0, arr.Length / 2); \n",
    "        Task task2 = ProcessPartAsync(arr, arr.Length / 2, arr.Length); \n",
    "\n",
    "        await Task.WhenAll(task1, task2);\n",
    "\n",
    "        return arr;\n",
    "    }\n",
    "\n",
    "    private static async Task ProcessPartAsync(int[] arr, int from, int to)\n",
    "    {\n",
    "        // TODO (2/3)\n",
    "        // Beispielverarbeitung: Verdoppele den Wert\n",
    "        // Fleißaufgabe: wie könnte man eine Delegate Instanz für die Verarbeitungslogik einbinden? \n",
    "        //for (int i = from; i < to; i++)\n",
    "        //{\n",
    "        //    arr[i] *= 2;\n",
    "        //}\n",
    "\n",
    "        //return arr;\n",
    "\n",
    "        // Offload processing to a background thread need to make asnychronous\n",
    "        await Task.Run(() =>\n",
    "        {\n",
    "            for (int i = from; i < to; i++)\n",
    "            {\n",
    "                arr[i] *= 2;\n",
    "            }\n",
    "        });\n",
    "        \n",
    "    }\n",
    "}\n",
    "\n",
    "// Testen Sie die Methode\n",
    "int[] myArray = { 1, 2, 3, 4, 5, 6, 7, 8 };\n",
    "// TODO (3/3)\n",
    "ArrayProcessor.ProcessArrayAsync(myArray).Wait();\n",
    "Console.WriteLine(string.Join(\", \", myArray)); // 2, 4, 6, 8, 10, 12, 14, 16"
   ]
  },
  {
   "cell_type": "markdown",
   "metadata": {},
   "source": [
    "## Aufgabe 2: Klasse `Temperature` mit Delegate\n",
    "Erstellen Sie eine Klasse `Temperature`, die ein Delegate `TemperatureChanger` verwendet, um eine Temperaturänderung zu registrieren. Das Delegate soll dabei in der Klasse als Eventhandler in `OnTemperatureChanged` gespeichert  und mit Aufruf des Setters getriggert werden.\n",
    "Implementieren Sie das Delegate so, dass die alte, sowie die neue Temperatur auf der Konsole ausgegeben wird."
   ]
  },
  {
   "cell_type": "markdown",
   "metadata": {},
   "source": [
    "### Note: Tip in Class"
   ]
  },
  {
   "cell_type": "code",
   "execution_count": null,
   "metadata": {
    "dotnet_interactive": {
     "language": "csharp"
    },
    "polyglot_notebook": {
     "kernelName": "csharp"
    },
    "vscode": {
     "languageId": "polyglot-notebook"
    }
   },
   "outputs": [
    {
     "name": "stdout",
     "output_type": "stream",
     "text": [
      "Temperature was 0°C and now is 22.5°C\n",
      "Temperature was 22.5°C and now is 25°C\n"
     ]
    }
   ],
   "source": [
    "using System;\n",
    "\n",
    "// Definition Delegate Type (0)\n",
    "public delegate void TemperatureChanger(double oldValue, double newValue);\n",
    "\n",
    "public class Temperature\n",
    "{\n",
    "    // TODO (1/3) Definition Delegate Type von 'TemperatureChanger'\n",
    "    public event TemperatureChanger? OnTemperatureChanged;\n",
    "\n",
    "    private double _value;\n",
    "    \n",
    "    // TODO (2/3) Implementierung Getter/Setter (Value)\n",
    "    public double Value\n",
    "    {\n",
    "        get => _value;\n",
    "        set\n",
    "        {\n",
    "            OnTemperatureChanged?.Invoke(_value, value); // !\n",
    "            _value = value;    \n",
    "        }\n",
    "    }\n",
    "\n",
    "}\n",
    "\n",
    "// Beispielnutzung\n",
    "var temp = new Temperature();\n",
    "\n",
    "// TODO (3/3) Erstellung Delegate Instanz & Zuweisung Eventhandler(Funktion)\n",
    "temp.OnTemperatureChanged += (oldValue, newValue) => Console.WriteLine($\"Temperature was {oldValue}°C and now is {newValue}°C\");\n",
    "\n",
    "temp.Value = 22.5;\n",
    "temp.Value = 25.0;"
   ]
  },
  {
   "cell_type": "markdown",
   "metadata": {},
   "source": [
    "## Aufgabe 3: LINQ - Top 10 Mannschaften\n",
    "Gegeben ist eine Liste von Mannschaften mit den Eigenschaften `Name`, `Goals` und `Value`. Schreiben Sie eine LINQ-Abfrage, die die Top-10-Mannschaften basierend auf den Toren (absteigend) zurückgibt, ohne den Wert (`Value`) anzuzeigen."
   ]
  },
  {
   "cell_type": "code",
   "execution_count": 16,
   "metadata": {
    "dotnet_interactive": {
     "language": "csharp"
    },
    "polyglot_notebook": {
     "kernelName": "csharp"
    },
    "vscode": {
     "languageId": "polyglot-notebook"
    }
   },
   "outputs": [
    {
     "name": "stdout",
     "output_type": "stream",
     "text": [
      "Team: Team L, Goals: 69\n",
      "Team: Team I, Goals: 57\n",
      "Team: Team G, Goals: 42\n",
      "Team: Team M, Goals: 32\n",
      "Team: Team A, Goals: 31\n",
      "Team: Team D, Goals: 20\n",
      "Team: Team B, Goals: 15\n",
      "Team: Team J, Goals: 14\n",
      "Team: Team F, Goals: 12\n",
      "Team: Team K, Goals: 9\n",
      "Team: Team C, Goals: 8\n",
      "Team: Team H, Goals: 6\n",
      "Team: Team E, Goals: 5\n"
     ]
    }
   ],
   "source": [
    "using System;\n",
    "using System.Collections.Generic;\n",
    "using System.Linq;\n",
    "\n",
    "public class Team\n",
    "{\n",
    "    public string Name { get; set; } = string.Empty;\n",
    "    public int Goals { get; set; }\n",
    "    public double Value { get; set; }\n",
    "}\n",
    "\n",
    "var teams = new List<Team>\n",
    "{\n",
    "    new Team { Name = \"Team A\", Goals = 31, Value = 1.5 },\n",
    "    new Team { Name = \"Team B\", Goals = 15, Value = 2.0 },\n",
    "    new Team { Name = \"Team C\", Goals = 8, Value = 0.8 },\n",
    "    new Team { Name = \"Team D\", Goals = 20, Value = 3.0 },\n",
    "    new Team { Name = \"Team E\", Goals = 5, Value = 0.5 },\n",
    "    new Team { Name = \"Team F\", Goals = 12, Value = 1.2 },\n",
    "    new Team { Name = \"Team G\", Goals = 42, Value = 2.8 },\n",
    "    new Team { Name = \"Team H\", Goals = 6, Value = 0.6 },\n",
    "    new Team { Name = \"Team I\", Goals = 57, Value = 0.7 },\n",
    "    new Team { Name = \"Team J\", Goals = 14, Value = 1.9 },\n",
    "    new Team { Name = \"Team K\", Goals = 9, Value = 1.0 },\n",
    "    new Team { Name = \"Team L\", Goals = 69, Value = 1.3 },\n",
    "    new Team { Name = \"Team M\", Goals = 32, Value = 1.7 }\n",
    "\n",
    "};\n",
    "\n",
    "// TODO (1/2) LINQ Abfrage\n",
    "var query = from team in teams\n",
    "            orderby team.Goals descending\n",
    "            select new { team.Name, team.Goals };\n",
    "\n",
    "\n",
    "// TODO (2/2) Ausgabe auf der Konsole\n",
    "foreach (var team in query) {\n",
    "    Console.WriteLine($\"Team: {team.Name}, Goals: {team.Goals}\");\n",
    "}"
   ]
  },
  {
   "cell_type": "markdown",
   "metadata": {},
   "source": [
    "## Weitere Aufgaben (teils Theoriefragen, teils Vorjahresfragen)\n",
    "- Sie verwenden in einer Methode `using`, um sich Zunutze zu machen, dass die verwendete Ressource `IDisposable` implementiert. Wie könnten Sie die Ressourcenfreigabe ohne `using` implementieren?\n",
    "- Erklären Sie den Unterschied zwischen `get; set;` und `get; init;` anhand eines Beispiels.\n",
    "- Implementiert ist die folgende Klasse, die `IDisposable` implementiert. Demonstrieren Sie die Aufrufreihenfolge von `Dispose` bei einer Exception im `using`-Block.\n",
    "- Implementieren Sie eine einfache Extension-Methode für einen Datentyp Ihrer Wahl."
   ]
  },
  {
   "cell_type": "code",
   "execution_count": null,
   "metadata": {
    "vscode": {
     "languageId": "polyglot-notebook"
    }
   },
   "outputs": [],
   "source": [
    "// Beispiel: Ressourcenfreigabe ohne using\n",
    "var resource = new SomeDisposableResource();\n",
    "\n",
    "try\n",
    "{\n",
    "    // Arbeiten mit der Ressource\n",
    "    resource.DoWork();\n",
    "}\n",
    "finally\n",
    "{\n",
    "    // Expliziter Aufruf von Dispose\n",
    "    if (resource != null)\n",
    "    {\n",
    "        resource.Dispose();\n",
    "    }\n",
    "}"
   ]
  },
  {
   "cell_type": "code",
   "execution_count": 17,
   "metadata": {
    "vscode": {
     "languageId": "polyglot-notebook"
    }
   },
   "outputs": [
    {
     "name": "stdout",
     "output_type": "stream",
     "text": [
      "Alice\n",
      "Bob\n"
     ]
    }
   ],
   "source": [
    "public class Person\n",
    "{\n",
    "    public string Name { get; set; } // Kann jederzeit gelesen und geschrieben werden\n",
    "}\n",
    "\n",
    "// Verwendung\n",
    "var person = new Person();\n",
    "person.Name = \"Alice\"; // Schreiben\n",
    "Console.WriteLine(person.Name); // Lesen\n",
    "person.Name = \"Bob\"; // Name kann erneut geändert werden\n",
    "Console.WriteLine(person.Name); // Lesen\n"
   ]
  },
  {
   "cell_type": "code",
   "execution_count": 19,
   "metadata": {
    "vscode": {
     "languageId": "polyglot-notebook"
    }
   },
   "outputs": [
    {
     "ename": "Error",
     "evalue": "(13,1): error CS8852: Init-only property or indexer 'Person.Name' can only be assigned in an object initializer, or on 'this' or 'base' in an instance constructor or an 'init' accessor.",
     "output_type": "error",
     "traceback": [
      "(13,1): error CS8852: Init-only property or indexer 'Person.Name' can only be assigned in an object initializer, or on 'this' or 'base' in an instance constructor or an 'init' accessor."
     ]
    }
   ],
   "source": [
    "public class Person\n",
    "{\n",
    "    public string Name { get; init; } // Kann nur bei der Initialisierung geschrieben werden\n",
    "}\n",
    "\n",
    "// Verwendung\n",
    "var person = new Person\n",
    "{\n",
    "    Name = \"Alice\" // Initialisierung erlaubt\n",
    "};\n",
    "Console.WriteLine(person.Name); // Lesen\n",
    "\n",
    "person.Name = \"Bob\"; // Fehler! Schreibzugriff nach der Initialisierung nicht erlaubt"
   ]
  },
  {
   "cell_type": "code",
   "execution_count": 21,
   "metadata": {
    "vscode": {
     "languageId": "polyglot-notebook"
    }
   },
   "outputs": [
    {
     "name": "stdout",
     "output_type": "stream",
     "text": [
      "Resource1 created.\n",
      "Resource2 created.\n",
      "Resource1 is doing work.\n",
      "Resource2 is doing work.\n",
      "Resource2 disposed.\n",
      "Resource1 disposed.\n",
      "Exception caught: Resource2 encountered an error!\n"
     ]
    }
   ],
   "source": [
    "using System;\n",
    "\n",
    "public class MyDisposableResource : IDisposable\n",
    "{\n",
    "    private readonly string _name;\n",
    "\n",
    "    public MyDisposableResource(string name)\n",
    "    {\n",
    "        _name = name;\n",
    "        Console.WriteLine($\"{_name} created.\");\n",
    "    }\n",
    "\n",
    "    public void DoWork()\n",
    "    {\n",
    "        Console.WriteLine($\"{_name} is doing work.\");\n",
    "        if (_name == \"Resource2\")\n",
    "        {\n",
    "            throw new Exception($\"{_name} encountered an error!\");\n",
    "        }\n",
    "    }\n",
    "\n",
    "    public void Dispose()\n",
    "    {\n",
    "        Console.WriteLine($\"{_name} disposed.\");\n",
    "    }\n",
    "}\n",
    "\n",
    "try\n",
    "{\n",
    "    using (var resource1 = new MyDisposableResource(\"Resource1\"))\n",
    "    using (var resource2 = new MyDisposableResource(\"Resource2\"))\n",
    "    {\n",
    "        resource1.DoWork();\n",
    "        resource2.DoWork(); // Hier wird eine Ausnahme ausgelöst\n",
    "        Console.WriteLine(\"All work done.\");\n",
    "    }\n",
    "}\n",
    "catch (Exception ex)\n",
    "{\n",
    "    Console.WriteLine($\"Exception caught: {ex.Message}\");\n",
    "}"
   ]
  },
  {
   "cell_type": "code",
   "execution_count": 22,
   "metadata": {
    "vscode": {
     "languageId": "polyglot-notebook"
    }
   },
   "outputs": [
    {
     "name": "stdout",
     "output_type": "stream",
     "text": [
      "The words in the sentence are:\n",
      "Extension\n",
      "methods\n",
      "are\n",
      "really\n",
      "useful\n",
      "in\n",
      "C#.\n"
     ]
    }
   ],
   "source": [
    "using System;\n",
    "using System.Collections.Generic;\n",
    "\n",
    "// Erweiterungsmethode für den Typ string\n",
    "public static IEnumerable<string> ToWords(this string input)\n",
    "{\n",
    "    if (string.IsNullOrWhiteSpace(input))\n",
    "    {\n",
    "        yield break;\n",
    "    }\n",
    "\n",
    "    // Aufteilen des Strings in Wörter anhand von Leerzeichen\n",
    "    var words = input.Split(' ', StringSplitOptions.RemoveEmptyEntries);\n",
    "    foreach (var word in words)\n",
    "    {\n",
    "        yield return word;\n",
    "    }\n",
    "}\n",
    "\n",
    "string sentence = \"Extension methods are really useful in C#.\";\n",
    "\n",
    "// Aufruf der Extension-Methode\n",
    "var words = sentence.ToWords();\n",
    "\n",
    "Console.WriteLine(\"The words in the sentence are:\");\n",
    "foreach (var word in words)\n",
    "{\n",
    "    Console.WriteLine(word);\n",
    "}\n"
   ]
  }
 ],
 "metadata": {
  "kernelspec": {
   "display_name": ".NET (C#)",
   "language": "C#",
   "name": ".net-csharp"
  },
  "language_info": {
   "name": "python"
  },
  "polyglot_notebook": {
   "kernelInfo": {
    "defaultKernelName": "csharp",
    "items": [
     {
      "aliases": [],
      "name": "csharp"
     }
    ]
   }
  }
 },
 "nbformat": 4,
 "nbformat_minor": 2
}
