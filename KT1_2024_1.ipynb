{
 "cells": [
  {
   "cell_type": "markdown",
   "metadata": {},
   "source": [
    "## Aufgabe 1: Asynchrones Verarbeiten von Arrays\n",
    "Schreiben Sie eine Methode, die einen Array in zwei Hälften teilt und jede Hälfte asynchron verarbeitet. Verwenden Sie dazu `Task` und `async/await`."
   ]
  },
  {
   "cell_type": "code",
   "execution_count": 7,
   "metadata": {
    "dotnet_interactive": {
     "language": "csharp"
    },
    "polyglot_notebook": {
     "kernelName": "csharp"
    },
    "vscode": {
     "languageId": "polyglot-notebook"
    }
   },
   "outputs": [],
   "source": [
    "public class ArrayProcessor\n",
    "{\n",
    "    public static async Task<int[]> ProcessArrayAsync(int[] arr)\n",
    "    {\n",
    "        // TODO (1/3)\n",
    "        throw new NotImplementedException();\n",
    "    }\n",
    "\n",
    "    private static async Task<int[]> ProcessPartAsync(int[] arr, int from, int to)\n",
    "    {\n",
    "        // TODO (2/3)\n",
    "        // Beispielverarbeitung: Verdoppele den Wert\n",
    "        // Fleißaufgabe: wie könnte man eine Delegate Instanz für die Verarbeitungslogik einbinden? \n",
    "\n",
    "        throw new NotImplementedException();\n",
    "    }\n",
    "}\n",
    "\n",
    "// Testen Sie die Methode\n",
    "int[] myArray = { 1, 2, 3, 4, 5, 6, 7, 8 };\n",
    "// TODO (3/3)"
   ]
  },
  {
   "cell_type": "markdown",
   "metadata": {},
   "source": [
    "## Aufgabe 2: Klasse `Temperature` mit Delegate\n",
    "Erstellen Sie eine Klasse `Temperature`, die ein Delegate `TemperatureChanger` verwendet, um eine Temperaturänderung zu registrieren. Das Delegate soll dabei in der Klasse als Eventhandler in `OnTemperatureChanged` gespeichert  und mit Aufruf des Setters getriggert werden.\n",
    "Implementieren Sie das Delegate so, dass die alte, sowie die neue Temperatur auf der Konsole ausgegeben wird."
   ]
  },
  {
   "cell_type": "code",
   "execution_count": null,
   "metadata": {
    "dotnet_interactive": {
     "language": "csharp"
    },
    "polyglot_notebook": {
     "kernelName": "csharp"
    },
    "vscode": {
     "languageId": "polyglot-notebook"
    }
   },
   "outputs": [
    {
     "ename": "Error",
     "evalue": "(6,18): error CS0246: The type or namespace name 'TemperatureChanger' could not be found (are you missing a using directive or an assembly reference?)\r\n(6,38): error CS0066: 'Temperature.OnTemperatureChanged': event must be of a delegate type\r\n(18,6): error CS1061: 'Temperature' does not contain a definition for 'Value' and no accessible extension method 'Value' accepting a first argument of type 'Temperature' could be found (are you missing a using directive or an assembly reference?)\r\n(19,6): error CS1061: 'Temperature' does not contain a definition for 'Value' and no accessible extension method 'Value' accepting a first argument of type 'Temperature' could be found (are you missing a using directive or an assembly reference?)",
     "output_type": "error",
     "traceback": [
      "(6,18): error CS0246: The type or namespace name 'TemperatureChanger' could not be found (are you missing a using directive or an assembly reference?)\r\n",
      "(6,38): error CS0066: 'Temperature.OnTemperatureChanged': event must be of a delegate type\r\n",
      "(18,6): error CS1061: 'Temperature' does not contain a definition for 'Value' and no accessible extension method 'Value' accepting a first argument of type 'Temperature' could be found (are you missing a using directive or an assembly reference?)\r\n",
      "(19,6): error CS1061: 'Temperature' does not contain a definition for 'Value' and no accessible extension method 'Value' accepting a first argument of type 'Temperature' could be found (are you missing a using directive or an assembly reference?)"
     ]
    }
   ],
   "source": [
    "using System;\n",
    "\n",
    "public class Temperature\n",
    "{\n",
    "    // TODO (1/3) Definition Delegate Type von 'TemperatureChanger'\n",
    "    public event TemperatureChanger? OnTemperatureChanged;\n",
    "\n",
    "    private double _value;\n",
    "    // TODO (2/3) Implementierung Getter/Setter\n",
    "\n",
    "}\n",
    "\n",
    "// Beispielnutzung\n",
    "var temp = new Temperature();\n",
    "\n",
    "// TODO (3/3) Erstellung Delegate Instanz & Zuweisung Eventhandler(Funktion)\n",
    "\n",
    "temp.Value = 22.5;\n",
    "temp.Value = 25.0;"
   ]
  },
  {
   "cell_type": "markdown",
   "metadata": {},
   "source": [
    "## Aufgabe 3: LINQ - Top 10 Mannschaften\n",
    "Gegeben ist eine Liste von Mannschaften mit den Eigenschaften `Name`, `Goals` und `Value`. Schreiben Sie eine LINQ-Abfrage, die die Top-10-Mannschaften basierend auf den Toren (absteigend) zurückgibt, ohne den Wert (`Value`) anzuzeigen."
   ]
  },
  {
   "cell_type": "code",
   "execution_count": 6,
   "metadata": {
    "dotnet_interactive": {
     "language": "csharp"
    },
    "polyglot_notebook": {
     "kernelName": "csharp"
    },
    "vscode": {
     "languageId": "polyglot-notebook"
    }
   },
   "outputs": [],
   "source": [
    "using System;\n",
    "using System.Collections.Generic;\n",
    "using System.Linq;\n",
    "\n",
    "public class Team\n",
    "{\n",
    "    public string Name { get; set; } = string.Empty;\n",
    "    public int Goals { get; set; }\n",
    "    public double Value { get; set; }\n",
    "}\n",
    "\n",
    "var teams = new List<Team>\n",
    "{\n",
    "    new Team { Name = \"Team A\", Goals = 31, Value = 1.5 },\n",
    "    new Team { Name = \"Team B\", Goals = 15, Value = 2.0 },\n",
    "    new Team { Name = \"Team C\", Goals = 8, Value = 0.8 },\n",
    "    new Team { Name = \"Team D\", Goals = 20, Value = 3.0 },\n",
    "    new Team { Name = \"Team E\", Goals = 5, Value = 0.5 },\n",
    "    new Team { Name = \"Team F\", Goals = 12, Value = 1.2 },\n",
    "    new Team { Name = \"Team G\", Goals = 42, Value = 2.8 },\n",
    "    new Team { Name = \"Team H\", Goals = 6, Value = 0.6 },\n",
    "    new Team { Name = \"Team I\", Goals = 57, Value = 0.7 },\n",
    "    new Team { Name = \"Team J\", Goals = 14, Value = 1.9 },\n",
    "    new Team { Name = \"Team K\", Goals = 9, Value = 1.0 },\n",
    "    new Team { Name = \"Team L\", Goals = 69, Value = 1.3 },\n",
    "    new Team { Name = \"Team M\", Goals = 32, Value = 1.7 }\n",
    "\n",
    "};\n",
    "\n",
    "// TODO (1/2) LINQ Abfrage\n",
    "\n",
    "// TODO (2/2) Ausgabe auf der Konsole"
   ]
  },
  {
   "cell_type": "markdown",
   "metadata": {},
   "source": [
    "## Weitere Aufgaben (teils Theoriefragen, teils Vorjahresfragen)\n",
    "- Sie verwenden in einer Methode `using`, um sich Zunutze zu machen, dass die verwendete Ressource `IDisposable` implementiert. Wie könnten Sie die Ressourcenfreigabe ohne `using` implementieren?\n",
    "- Erklären Sie den Unterschied zwischen `get; set;` und `get; init;` anhand eines Beispiels.\n",
    "- Implementiert ist die folgende Klasse, die `IDisposable` implementiert. Demonstrieren Sie die Aufrufreihenfolge von `Dispose` bei einer Exception im `using`-Block.\n",
    "- Implementieren Sie eine einfache Extension-Methode für einen Datentyp Ihrer Wahl."
   ]
  }
 ],
 "metadata": {
  "kernelspec": {
   "display_name": ".NET (C#)",
   "language": "C#",
   "name": ".net-csharp"
  },
  "language_info": {
   "name": "python"
  },
  "polyglot_notebook": {
   "kernelInfo": {
    "defaultKernelName": "csharp",
    "items": [
     {
      "aliases": [],
      "name": "csharp"
     }
    ]
   }
  }
 },
 "nbformat": 4,
 "nbformat_minor": 2
}
